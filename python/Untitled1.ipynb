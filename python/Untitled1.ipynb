{
 "cells": [
  {
   "cell_type": "code",
   "execution_count": 1,
   "metadata": {},
   "outputs": [
    {
     "name": "stdout",
     "output_type": "stream",
     "text": [
      "Below are the parameters in use. Check the parameters carefully to ensure a sucussful run.\n",
      "{ 'agegrid_url': 'https://www.earthbyte.org/webdav/ftp/Data_Collections/Muller_etal_2016_AREPS/Muller_etal_2016_AREPS_Agegrids/Muller_etal_2016_AREPS_Agegrids_v1.17/Muller_etal_2016_AREPS_v1.17_netCDF/Muller_etal_2016_AREPS_v1.17_AgeGrid-{}.nc',\n",
      "  'anchor_plate_id': 0,\n",
      "  'case_name': 'case_AREPS',\n",
      "  'coastlines': '../data/Global_EarthByte_230-0Ma_GK07_AREPS_Coastlines.gpmlz',\n",
      "  'convergence_data_dir': './convergence_data/AREPS/',\n",
      "  'convergence_data_filename_ext': 'csv',\n",
      "  'convergence_data_filename_prefix': 'subStats',\n",
      "  'coreg_input_dir': 'case_AREPS/coreg_input/NA',\n",
      "  'coreg_input_files': ['negative_deposits.csv', 'positive_deposits.csv'],\n",
      "  'coreg_output_dir': 'coreg_output/NA',\n",
      "  'feature_names': [ 'conv_rate',\n",
      "                     'dist_nearest_edge',\n",
      "                     'subduction_volume_km3y',\n",
      "                     'carbonate_sediment_thickness',\n",
      "                     'ocean_crust_carb_percent'],\n",
      "  'grid_files': [ [ '../data/AgeGrids/Muller_etal_2016_AREPS_v1.17_AgeGrid-{time:d}.nc',\n",
      "                    'seafloor_age'],\n",
      "                  [ '../data/carbonate_sed_thickness/decompacted_sediment_thickness_0.5_{time:d}.nc',\n",
      "                    'carbonate_sediment_thickness'],\n",
      "                  [ '../data/predicted_oceanic_sediment_thickness/sed_thick_0.2d_{time:d}.nc',\n",
      "                    'total_sediment_thick'],\n",
      "                  [ '../data/ocean_crust_CO2_grids/ocean_crust_carb_percent_{time:d}.nc',\n",
      "                    'ocean_crust_carb_percent']],\n",
      "  'machine_learning_engine': 'RFC',\n",
      "  'map_extent': [-180, -80, 0, 85],\n",
      "  'ml_input_dir': 'ml_input',\n",
      "  'ml_output_dir': 'ml_output',\n",
      "  'overwrite_existing_convergence_data': True,\n",
      "  'plate_tectonic_tools_path': '/workspace/spatio-temporal-exploration-master-JDiazRod/python/../PlateTectonicTools/ptt/',\n",
      "  'region_of_interest_polygon_file': '../data/polygon_north_america_julian.csv',\n",
      "  'regions': [5],\n",
      "  'rotation_files': ['../data/Global_EarthByte_230-0Ma_GK07_AREPS.rot'],\n",
      "  'static_polygons_file': '../data/Shapefiles/StaticPolygons/Global_EarthByte_GPlates_PresentDay_StaticPlatePolygons_2015_v1.shp',\n",
      "  'terranes': '',\n",
      "  'threshold_sampling_distance_degrees': 0.2,\n",
      "  'time': {'end': 230, 'start': 0, 'step': 1},\n",
      "  'topo_grid': '../data/topo15_3600x1800.nc',\n",
      "  'topology_files': [ '../data/Global_EarthByte_230-0Ma_GK07_AREPS_PlateBoundaries.gpml.gz',\n",
      "                      '../data/Global_EarthByte_230-0Ma_GK07_AREPS_Topology_BuildingBlocks.gpml.gz'],\n",
      "  'vector_files': ['{conv_dir}subStats_{time:.2f}.csv'],\n",
      "  'velocity_delta_time': 1}\n",
      "The file name of the mineral deposits:  ['negative_deposits.csv', 'positive_deposits.csv']\n",
      "The output folder:  case_AREPS/coreg_input/NA/\n",
      "The region of interest(in degree):  [5]\n",
      "The subduction convergence kinematics statistics file name template:  ['{conv_dir}subStats_{time:.2f}.csv']\n",
      "\n",
      "\n",
      "running coregistration...\n",
      "co-registration input files are: \n",
      "['case_AREPS/coreg_input/NA/negative_deposits.csv', 'case_AREPS/coreg_input/NA/positive_deposits.csv']\n",
      "processing case_AREPS/coreg_input/NA/negative_deposits.csv ***********************************\n",
      "querying {conv_dir}subStats_{time:.2f}.csv\n",
      "region of interest: 5\n",
      "the length of input data is: 445\n"
     ]
    },
    {
     "ename": "InvalidLatLonError",
     "evalue": "invalid latitude value -179.598",
     "output_type": "error",
     "traceback": [
      "\u001b[0;31m---------------------------------------------------------------------------\u001b[0m",
      "\u001b[0;31mInvalidLatLonError\u001b[0m                        Traceback (most recent call last)",
      "\u001b[0;32m<ipython-input-1-c8d21ab6da53>\u001b[0m in \u001b[0;36m<module>\u001b[0;34m\u001b[0m\n\u001b[1;32m     14\u001b[0m \u001b[0;34m\u001b[0m\u001b[0m\n\u001b[1;32m     15\u001b[0m \u001b[0;32mimport\u001b[0m \u001b[0mcoregistration\u001b[0m\u001b[0;34m\u001b[0m\u001b[0;34m\u001b[0m\u001b[0m\n\u001b[0;32m---> 16\u001b[0;31m \u001b[0mcoregistration\u001b[0m\u001b[0;34m.\u001b[0m\u001b[0mrun\u001b[0m\u001b[0;34m(\u001b[0m\u001b[0;34m)\u001b[0m \u001b[0;31m#run the coregistration script\u001b[0m\u001b[0;34m\u001b[0m\u001b[0;34m\u001b[0m\u001b[0m\n\u001b[0m\u001b[1;32m     17\u001b[0m \u001b[0;31m#some files should have been created at this point\u001b[0m\u001b[0;34m\u001b[0m\u001b[0;34m\u001b[0m\u001b[0;34m\u001b[0m\u001b[0m\n\u001b[1;32m     18\u001b[0m \u001b[0;31m#let's move to the next cell and check the results\u001b[0m\u001b[0;34m\u001b[0m\u001b[0;34m\u001b[0m\u001b[0;34m\u001b[0m\u001b[0m\n",
      "\u001b[0;32m/workspace/spatio-temporal-exploration-master-JDiazRod/python/coregistration.py\u001b[0m in \u001b[0;36mrun\u001b[0;34m()\u001b[0m\n\u001b[1;32m    220\u001b[0m                 \u001b[0mprint\u001b[0m\u001b[0;34m(\u001b[0m\u001b[0;34m'the length of input data is: {}'\u001b[0m\u001b[0;34m.\u001b[0m\u001b[0mformat\u001b[0m\u001b[0;34m(\u001b[0m\u001b[0mlen\u001b[0m\u001b[0;34m(\u001b[0m\u001b[0minput_data\u001b[0m\u001b[0;34m)\u001b[0m\u001b[0;34m)\u001b[0m\u001b[0;34m)\u001b[0m\u001b[0;34m\u001b[0m\u001b[0;34m\u001b[0m\u001b[0m\n\u001b[1;32m    221\u001b[0m \u001b[0;34m\u001b[0m\u001b[0m\n\u001b[0;32m--> 222\u001b[0;31m                 \u001b[0mret\u001b[0m \u001b[0;34m=\u001b[0m \u001b[0mquery_vector\u001b[0m\u001b[0;34m(\u001b[0m\u001b[0minput_data\u001b[0m\u001b[0;34m,\u001b[0m \u001b[0min_file\u001b[0m\u001b[0;34m,\u001b[0m \u001b[0mregion\u001b[0m\u001b[0;34m)\u001b[0m\u001b[0;34m\u001b[0m\u001b[0;34m\u001b[0m\u001b[0m\n\u001b[0m\u001b[1;32m    223\u001b[0m \u001b[0;34m\u001b[0m\u001b[0m\n\u001b[1;32m    224\u001b[0m                 \u001b[0mnew_input_data\u001b[0m\u001b[0;34m=\u001b[0m\u001b[0;34m[\u001b[0m\u001b[0;34m]\u001b[0m\u001b[0;34m\u001b[0m\u001b[0;34m\u001b[0m\u001b[0m\n",
      "\u001b[0;32m/workspace/spatio-temporal-exploration-master-JDiazRod/python/coregistration.py\u001b[0m in \u001b[0;36mquery_vector\u001b[0;34m(sample_points, vector_file, region)\u001b[0m\n\u001b[1;32m     86\u001b[0m         \u001b[0mgrouped_points\u001b[0m \u001b[0;34m=\u001b[0m \u001b[0mlist\u001b[0m\u001b[0;34m(\u001b[0m\u001b[0mgroup\u001b[0m\u001b[0;34m)\u001b[0m\u001b[0;31m#must make a copy, the items in \"group\" will be gone after first iteration\u001b[0m\u001b[0;34m\u001b[0m\u001b[0;34m\u001b[0m\u001b[0m\n\u001b[1;32m     87\u001b[0m         \u001b[0;32mfor\u001b[0m \u001b[0mpoint\u001b[0m \u001b[0;32min\u001b[0m \u001b[0mgrouped_points\u001b[0m\u001b[0;34m:\u001b[0m\u001b[0;34m\u001b[0m\u001b[0;34m\u001b[0m\u001b[0m\n\u001b[0;32m---> 88\u001b[0;31m             \u001b[0mpoint_to_rotate\u001b[0m \u001b[0;34m=\u001b[0m \u001b[0mpygplates\u001b[0m\u001b[0;34m.\u001b[0m\u001b[0mPointOnSphere\u001b[0m\u001b[0;34m(\u001b[0m\u001b[0;34m(\u001b[0m\u001b[0mpoint\u001b[0m\u001b[0;34m[\u001b[0m\u001b[0;36m2\u001b[0m\u001b[0;34m]\u001b[0m\u001b[0;34m,\u001b[0m \u001b[0mpoint\u001b[0m\u001b[0;34m[\u001b[0m\u001b[0;36m1\u001b[0m\u001b[0;34m]\u001b[0m\u001b[0;34m)\u001b[0m\u001b[0;34m)\u001b[0m\u001b[0;34m\u001b[0m\u001b[0;34m\u001b[0m\u001b[0m\n\u001b[0m\u001b[1;32m     89\u001b[0m             \u001b[0mfinite_rotation\u001b[0m \u001b[0;34m=\u001b[0m \u001b[0mrotation_model\u001b[0m\u001b[0;34m.\u001b[0m\u001b[0mget_rotation\u001b[0m\u001b[0;34m(\u001b[0m\u001b[0mpoint\u001b[0m\u001b[0;34m[\u001b[0m\u001b[0;36m3\u001b[0m\u001b[0;34m]\u001b[0m\u001b[0;34m,\u001b[0m \u001b[0mint\u001b[0m\u001b[0;34m(\u001b[0m\u001b[0mpoint\u001b[0m\u001b[0;34m[\u001b[0m\u001b[0;36m4\u001b[0m\u001b[0;34m]\u001b[0m\u001b[0;34m)\u001b[0m\u001b[0;34m)\u001b[0m\u001b[0;31m#time, plate_id\u001b[0m\u001b[0;34m\u001b[0m\u001b[0;34m\u001b[0m\u001b[0m\n\u001b[1;32m     90\u001b[0m             \u001b[0mgeom\u001b[0m \u001b[0;34m=\u001b[0m \u001b[0mfinite_rotation\u001b[0m \u001b[0;34m*\u001b[0m \u001b[0mpoint_to_rotate\u001b[0m\u001b[0;34m\u001b[0m\u001b[0;34m\u001b[0m\u001b[0m\n",
      "\u001b[0;31mInvalidLatLonError\u001b[0m: invalid latitude value -179.598"
     ]
    }
   ],
   "source": [
    "\n",
    "import Utils\n",
    "\n",
    "Utils.load_config('config_NA.json')\n",
    "Utils.print_parameters()\n",
    "\n",
    "#let's print out some important parameters\n",
    "#you can change the 'input_file' in config.json to use different mineral deposits. \n",
    "#Remember the files we have created in step 2?\n",
    "print('The file name of the mineral deposits: ', Utils.get_parameter('coreg_input_files'))\n",
    "print('The output folder: ', Utils.get_coreg_input_dir())\n",
    "print('The region of interest(in degree): ', Utils.get_parameter('regions'))\n",
    "print('The subduction convergence kinematics statistics file name template: ', Utils.get_parameter('vector_files'))\n",
    "print('\\n')\n",
    "\n",
    "import coregistration\n",
    "coregistration.run() #run the coregistration script\n",
    "#some files should have been created at this point\n",
    "#let's move to the next cell and check the results"
   ]
  },
  {
   "cell_type": "code",
   "execution_count": null,
   "metadata": {},
   "outputs": [],
   "source": []
  }
 ],
 "metadata": {
  "kernelspec": {
   "display_name": "Python 3",
   "language": "python",
   "name": "python3"
  },
  "language_info": {
   "codemirror_mode": {
    "name": "ipython",
    "version": 3
   },
   "file_extension": ".py",
   "mimetype": "text/x-python",
   "name": "python",
   "nbconvert_exporter": "python",
   "pygments_lexer": "ipython3",
   "version": "3.7.7"
  }
 },
 "nbformat": 4,
 "nbformat_minor": 4
}
