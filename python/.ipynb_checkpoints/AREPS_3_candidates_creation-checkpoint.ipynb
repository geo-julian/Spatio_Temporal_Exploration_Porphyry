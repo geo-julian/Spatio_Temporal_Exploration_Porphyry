{
 "cells": [
  {
   "cell_type": "code",
   "execution_count": 5,
   "metadata": {},
   "outputs": [
    {
     "name": "stdout",
     "output_type": "stream",
     "text": [
      "reading /workspace/spatio-temporal-exploration-master-JDiazRod/python/../data/polygon_north_america_julian.csv\n"
     ]
    }
   ],
   "source": [
    "import pandas as pd\n",
    "import parameters_cand_NA as parameters\n",
    "#from parameters import parameters\n",
    "#from parameters_cand_NA import parameters as parameters\n",
    "#from create_coregistration_input_data_example import *\n",
    "import pygplates\n",
    "import glob\n",
    "import Utils_cand_NA as Utils\n",
    "\n",
    "deposit_candidates = Utils.get_deposit_candidates()\n",
    "deposit_candidates.to_csv('case_AREPS/coreg_input/NA/deposit_candidates.csv', index_label = 'index')"
   ]
  },
  {
   "cell_type": "code",
   "execution_count": 6,
   "metadata": {},
   "outputs": [
    {
     "name": "stdout",
     "output_type": "stream",
     "text": [
      "reading /workspace/spatio-temporal-exploration-master-JDiazRod/python/../data/polygon_south_america_julian.csv\n"
     ]
    }
   ],
   "source": [
    "import pandas as pd\n",
    "import parameters_cand_SA as parameters\n",
    "#from parameters import parameters\n",
    "#from create_coregistration_input_data_example import *\n",
    "import pygplates\n",
    "import glob\n",
    "import Utils_cand_SA as Utils\n",
    "\n",
    "deposit_candidates = Utils.get_deposit_candidates()\n",
    "deposit_candidates.to_csv('case_AREPS/coreg_input/SA/deposit_candidates.csv', index_label = 'index')"
   ]
  },
  {
   "cell_type": "code",
   "execution_count": null,
   "metadata": {},
   "outputs": [],
   "source": []
  }
 ],
 "metadata": {
  "kernelspec": {
   "display_name": "Python 3",
   "language": "python",
   "name": "python3"
  },
  "language_info": {
   "codemirror_mode": {
    "name": "ipython",
    "version": 3
   },
   "file_extension": ".py",
   "mimetype": "text/x-python",
   "name": "python",
   "nbconvert_exporter": "python",
   "pygments_lexer": "ipython3",
   "version": "3.7.7"
  }
 },
 "nbformat": 4,
 "nbformat_minor": 4
}
