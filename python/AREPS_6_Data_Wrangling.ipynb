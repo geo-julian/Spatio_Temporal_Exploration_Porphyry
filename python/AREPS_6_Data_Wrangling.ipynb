{
 "cells": [
  {
   "cell_type": "markdown",
   "metadata": {},
   "source": [
    "##### After having a look at the data, let's start selecting features and add labels."
   ]
  },
  {
   "cell_type": "code",
   "execution_count": 1,
   "metadata": {},
   "outputs": [
    {
     "name": "stdout",
     "output_type": "stream",
     "text": [
      "['case_AREPS', 'case_AREPS/ml_output', 'case_AREPS/ml_input', 'case_AREPS/tmp/']\n"
     ]
    }
   ],
   "source": [
    "import numpy as np\n",
    "import pandas as pd\n",
    "from parameters import parameters \n",
    "import Utils as Utils\n",
    "import os\n",
    "\n",
    "Utils.create_dirs()"
   ]
  },
  {
   "cell_type": "code",
   "execution_count": 2,
   "metadata": {
    "scrolled": true
   },
   "outputs": [
    {
     "name": "stdout",
     "output_type": "stream",
     "text": [
      "\n",
      "generated files:\n",
      "case_AREPS/ml_input/NA_candidates_all_columns.csv\n",
      "case_AREPS/ml_input/NA_deposit_candidates.csv\n",
      "case_AREPS/ml_input/SA_candidates_all_columns.csv\n",
      "case_AREPS/ml_input/SA_deposit_candidates.csv\n",
      "case_AREPS/ml_input/SA_positive_all_columns.csv\n",
      "case_AREPS/ml_input/SA_positive_deposits.csv\n",
      "case_AREPS/ml_input/NA_negative_deposits.csv\n",
      "case_AREPS/ml_input/NA_negative_all_columns.csv\n",
      "case_AREPS/ml_input/NA_positive_all_columns.csv\n",
      "case_AREPS/ml_input/SA_negative_all_columns.csv\n",
      "case_AREPS/ml_input/NA_positive_deposits.csv\n",
      "case_AREPS/ml_input/SA_negative_deposits.csv\n"
     ]
    }
   ],
   "source": [
    "\n",
    "#coreg_out_dir = Utils.get_coreg_output_dir()\n",
    "\n",
    "NA_positive_data = pd.read_csv('case_AREPS/coreg_output_clean/NA/positive_deposits.csv')\n",
    "NA_negative_data = pd.read_csv('case_AREPS/coreg_output_clean/NA/negative_deposits.csv')\n",
    "NA_candidates_data = pd.read_csv('case_AREPS/coreg_output_clean/NA/deposit_candidates.csv')\n",
    "SA_positive_data = pd.read_csv('case_AREPS/coreg_output_clean/SA/positive_deposits.csv')\n",
    "SA_negative_data = pd.read_csv('case_AREPS/coreg_output_clean/SA/negative_deposits.csv')\n",
    "SA_candidates_data = pd.read_csv('case_AREPS/coreg_output_clean/SA/deposit_candidates.csv')\n",
    "\n",
    "\n",
    "feature_names = parameters['feature_names']\n",
    "\n",
    "NA_positive_feat = NA_positive_data[feature_names].dropna()\n",
    "NA_negative_feat = NA_negative_data[feature_names].dropna()\n",
    "NA_candidates_feat = NA_candidates_data[feature_names].dropna()\n",
    "SA_positive_feat = SA_positive_data[feature_names].dropna()\n",
    "SA_negative_feat = SA_negative_data[feature_names].dropna()\n",
    "SA_candidates_feat = SA_candidates_data[feature_names].dropna()\n",
    "\n",
    "\n",
    "NA_positive_feat['label']=True\n",
    "NA_negative_feat['label']=False\n",
    "SA_positive_feat['label']=True\n",
    "SA_negative_feat['label']=False\n",
    "\n",
    "\n",
    "#save the data\n",
    "\n",
    "\n",
    "NA_positive_feat.to_csv(Utils.get_ml_input_dir() + 'NA_positive_deposits.csv', index=False)\n",
    "NA_negative_feat.to_csv(Utils.get_ml_input_dir() + 'NA_negative_deposits.csv', index=False)\n",
    "NA_candidates_feat.to_csv(Utils.get_ml_input_dir() + 'NA_deposit_candidates.csv', index=False)\n",
    "SA_positive_feat.to_csv(Utils.get_ml_input_dir() + 'SA_positive_deposits.csv', index=False)\n",
    "SA_negative_feat.to_csv(Utils.get_ml_input_dir() + 'SA_negative_deposits.csv', index=False)\n",
    "SA_candidates_feat.to_csv(Utils.get_ml_input_dir() + 'SA_deposit_candidates.csv', index=False)\n",
    "\n",
    "\n",
    "\n",
    "NA_positive_data.iloc[NA_positive_feat.index].to_csv(Utils.get_ml_input_dir() + 'NA_positive_all_columns.csv', index=False)\n",
    "NA_negative_data.iloc[NA_negative_feat.index].to_csv(Utils.get_ml_input_dir() + 'NA_negative_all_columns.csv', index=False)\n",
    "NA_candidates_data.iloc[NA_candidates_feat.index].to_csv(Utils.get_ml_input_dir() + 'NA_candidates_all_columns.csv', index=False)\n",
    "SA_positive_data.iloc[SA_positive_feat.index].to_csv(Utils.get_ml_input_dir() + 'SA_positive_all_columns.csv', index=False)\n",
    "SA_negative_data.iloc[SA_negative_feat.index].to_csv(Utils.get_ml_input_dir() + 'SA_negative_all_columns.csv', index=False)\n",
    "SA_candidates_data.iloc[SA_candidates_feat.index].to_csv(Utils.get_ml_input_dir() + 'SA_candidates_all_columns.csv', index=False)\n",
    "\n",
    "\n",
    "import glob\n",
    "files = glob.glob(Utils.get_ml_input_dir() + '*')\n",
    "print('\\ngenerated files:')\n",
    "for f in files:\n",
    "    print(f)\n"
   ]
  },
  {
   "cell_type": "code",
   "execution_count": null,
   "metadata": {},
   "outputs": [],
   "source": []
  }
 ],
 "metadata": {
  "kernelspec": {
   "display_name": "Python 3",
   "language": "python",
   "name": "python3"
  },
  "language_info": {
   "codemirror_mode": {
    "name": "ipython",
    "version": 3
   },
   "file_extension": ".py",
   "mimetype": "text/x-python",
   "name": "python",
   "nbconvert_exporter": "python",
   "pygments_lexer": "ipython3",
   "version": "3.7.7"
  }
 },
 "nbformat": 4,
 "nbformat_minor": 2
}
